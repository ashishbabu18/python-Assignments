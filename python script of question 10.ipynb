{
 "cells": [
  {
   "cell_type": "markdown",
   "id": "0e4b5738",
   "metadata": {},
   "source": [
    "10. Create a base class rectangle with attributes length and breadth, methods\n",
    "area and perimeter.\n",
    "a. Save the rectangle class as a python file rectangle.py file.\n",
    "b. Open another python script and import the rectangle.py file.\n",
    "c. In the newly created script derive a child class called Parallelepiped\n",
    "class inheriting from the Rectangle class and with a height attribute\n",
    "and another Volume() method to calculate the volume of the\n",
    "Parallelepiped.\n",
    "d. Now create objects for parent class and child class in newly created\n",
    "script and access methods of parent class and child class. "
   ]
  },
  {
   "cell_type": "code",
   "execution_count": 2,
   "id": "621b6b99",
   "metadata": {},
   "outputs": [
    {
     "name": "stdout",
     "output_type": "stream",
     "text": [
      "Enter some random length of the rectangle = 2\n",
      "Enter some random breadth of the rectangle = 3\n",
      "Enter some random height of the rectangle = 4\n",
      "The area of the rectangle with the given sides 2 , 3 = 6\n",
      "The perimmeter of the rectangle with the given sides 2 , 3 = 10\n",
      "The volume of the Parallelepiped with the given sides 2 , 3 , 4 = 24\n"
     ]
    }
   ],
   "source": [
    "class rectangle():\n",
    "  \n",
    "    def __init__(self, rectbreadth, rectlength,rectheight):\n",
    "        self.rectbreadth = rectbreadth\n",
    "        self.rectlength = rectlength\n",
    "        self.rectheight= rectheight\n",
    "  \n",
    "    def areaofRect(self):\n",
    "        return self.rectbreadth*self.rectlength\n",
    "    def perimterofRect(self):\n",
    "        return (self.rectbreadth+self.rectlength)*2\n",
    "    def volumecalcu(self):\n",
    "        return (self.rectbreadth*self.rectlength*self.rectheight)\n",
    "\n",
    "    def display():\n",
    "        print(\"The area of the rectangle with the given sides\",\n",
    "          rectlength, ',', rectbreadth, '=', rectObj.areaofRect())\n",
    "    \n",
    "        print(\"The perimmeter of the rectangle with the given sides\",\n",
    "          rectlength, ',', rectbreadth, '=', rectObj.perimterofRect())\n",
    "        return\n",
    "    def volume(self):\n",
    "        print(\"The volume of the Parallelepiped with the given sides\",\n",
    "          rectlength, ',', rectbreadth,',',rectheight, '=', rectObj.volumecalcu())\n",
    "        return \n",
    "        \n",
    "rectlength = int(input('Enter some random length of the rectangle = '))\n",
    "\n",
    "rectbreadth = int(input('Enter some random breadth of the rectangle = '))\n",
    "\n",
    "rectheight=  int(input('Enter some random height of the rectangle = ')) \n",
    "\n",
    "rectObj = rectangle(rectlength, rectbreadth,rectheight)\n",
    "rectangle.display()\n",
    "\n",
    "class Parallelepiped(rectangle):\n",
    "    pass\n",
    "    \n",
    "x=Parallelepiped(rectlength, rectbreadth,rectheight)\n",
    "x.volume()\n",
    "  "
   ]
  },
  {
   "cell_type": "code",
   "execution_count": null,
   "id": "168f4c30",
   "metadata": {},
   "outputs": [],
   "source": []
  }
 ],
 "metadata": {
  "kernelspec": {
   "display_name": "Python 3 (ipykernel)",
   "language": "python",
   "name": "python3"
  },
  "language_info": {
   "codemirror_mode": {
    "name": "ipython",
    "version": 3
   },
   "file_extension": ".py",
   "mimetype": "text/x-python",
   "name": "python",
   "nbconvert_exporter": "python",
   "pygments_lexer": "ipython3",
   "version": "3.9.13"
  }
 },
 "nbformat": 4,
 "nbformat_minor": 5
}
