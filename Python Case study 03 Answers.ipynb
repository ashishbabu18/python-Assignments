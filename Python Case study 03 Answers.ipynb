{
 "cells": [
  {
   "cell_type": "markdown",
   "id": "f4812ce8",
   "metadata": {},
   "source": [
    "Write a Python function to sum all the numbers in a list. (Create a list and\n",
    "get list elements from user)\n"
   ]
  },
  {
   "cell_type": "code",
   "execution_count": 33,
   "id": "f669a2f9",
   "metadata": {},
   "outputs": [
    {
     "name": "stdout",
     "output_type": "stream",
     "text": [
      "no of elements2\n",
      "Enter the element of the list : 1\n",
      "Enter the element of the list : 2\n",
      "[1, 2]\n",
      "Sum of all the elements in the list is: 3\n"
     ]
    }
   ],
   "source": [
    "list1=[]\n",
    "\n",
    "n= int(input('no of elements'))\n",
    "total =0\n",
    "\n",
    "for i in range(1,n+1):\n",
    "    x= int(input('Enter the element of the list : '))\n",
    "    list1.append(x)\n",
    "print (list1)\n",
    "def funsum(x):\n",
    "    sumOfElements = sum(x)\n",
    "    return sumOfElements\n",
    "funsum(list1)\n",
    "print(\"Sum of all the elements in the list is:\", sumOfElements)\n"
   ]
  },
  {
   "cell_type": "code",
   "execution_count": 43,
   "id": "7aed5f5c",
   "metadata": {},
   "outputs": [
    {
     "name": "stdout",
     "output_type": "stream",
     "text": [
      "Enter the string to check palindromeara\n",
      "Inserted string is a palindrome. \n"
     ]
    }
   ],
   "source": [
    "n= (input('Enter the string to check palindrome'))\n",
    "def isPalindrome(string):\n",
    "    found = True\n",
    "    for i in range(len(string)):\n",
    "        if string[i] != string[len(string) - 1 - i]:\n",
    "            found = False\n",
    "            break\n",
    "\n",
    "    if found == True:\n",
    "        print(\"Inserted string is a palindrome. \")\n",
    "    else:\n",
    "        print(\"Inserted string is not a palindrome. \")\n",
    "\n",
    "    return\n",
    "\n",
    "isPalindrome(n)\n",
    "\n"
   ]
  },
  {
   "cell_type": "markdown",
   "id": "a38e1549",
   "metadata": {},
   "source": [
    "Write a Python recursive function to find the Fibonacci series. Get the limit\n",
    "from the user\n"
   ]
  },
  {
   "cell_type": "code",
   "execution_count": 2,
   "id": "93a836a1",
   "metadata": {},
   "outputs": [
    {
     "name": "stdout",
     "output_type": "stream",
     "text": [
      "Enter the limit5\n",
      "Fibonacci sequence:\n",
      "0\n",
      "1\n",
      "1\n",
      "2\n",
      "3\n"
     ]
    }
   ],
   "source": [
    "\n",
    "\n",
    "def recur_fibo(n):\n",
    "   if n <= 1:\n",
    "       return n\n",
    "   else:\n",
    "       return(recur_fibo(n-1) + recur_fibo(n-2))\n",
    "\n",
    "nterms = int(input('Enter the limit'))\n",
    "\n",
    "if nterms <= 0:\n",
    "   print(\"Plese enter a positive integer\")\n",
    "else:\n",
    "   print(\"Fibonacci sequence:\")\n",
    "   for i in range(nterms):\n",
    "       print(recur_fibo(i))"
   ]
  },
  {
   "cell_type": "code",
   "execution_count": null,
   "id": "deed158c",
   "metadata": {},
   "outputs": [],
   "source": [
    "Write a Python recursive function to print the multiplication table of\n",
    "given number"
   ]
  },
  {
   "cell_type": "code",
   "execution_count": 17,
   "id": "b11206c6",
   "metadata": {},
   "outputs": [
    {
     "name": "stdout",
     "output_type": "stream",
     "text": [
      "print the number for multiplying table6\n",
      "6 * 1 = 6\n",
      "6 * 2 = 12\n",
      "6 * 3 = 18\n",
      "6 * 4 = 24\n",
      "6 * 5 = 30\n",
      "6 * 6 = 36\n",
      "6 * 7 = 42\n",
      "6 * 8 = 48\n",
      "6 * 9 = 54\n",
      "6 * 10 = 60\n"
     ]
    }
   ],
   "source": [
    "\n",
    "def mul_table(N, i):\n",
    "     \n",
    "   \n",
    "    if (i > 10):\n",
    "        return\n",
    "     \n",
    "    \n",
    "    print(N,\"*\",i,\"=\",N * i)\n",
    "     \n",
    "   \n",
    "    return mul_table(N, i + 1)\n",
    "\n",
    "S = int(input('print the number for multiplying table'))\n",
    " \n",
    "\n",
    "mul_table(S, 1)\n",
    " \n"
   ]
  },
  {
   "cell_type": "markdown",
   "id": "387eb4bd",
   "metadata": {},
   "source": [
    "Define a function which counts vowels and consonant in a word.\n"
   ]
  },
  {
   "cell_type": "code",
   "execution_count": 19,
   "id": "28343a42",
   "metadata": {},
   "outputs": [
    {
     "name": "stdout",
     "output_type": "stream",
     "text": [
      "Please Enter Your Own String : hai ashish\n",
      "Total Number of Vowels in this String =  4\n",
      "Total Number of Consonants in this String =  6\n"
     ]
    }
   ],
   "source": [
    "\n",
    "\n",
    "str1 = input(\"Please Enter String : \")\n",
    "vowels = 0\n",
    "consonants = 0\n",
    "\n",
    "for i in str1:\n",
    "    if(i == 'a' or i == 'e' or i == 'i' or i == 'o' or i == 'u'\n",
    "       or i == 'A' or i == 'E' or i == 'I' or i == 'O' or i == 'U'):\n",
    "        vowels = vowels + 1\n",
    "    else:\n",
    "        consonants = consonants + 1\n",
    " \n",
    "print(\"Total Number of Vowels in this String = \", vowels)\n",
    "print(\"Total Number of Consonants in this String = \", consonants)"
   ]
  },
  {
   "cell_type": "markdown",
   "id": "e51cf9cb",
   "metadata": {},
   "source": [
    "Define a function that accepts lowercase words and returns uppercase\n",
    "words."
   ]
  },
  {
   "cell_type": "code",
   "execution_count": 21,
   "id": "9fb79057",
   "metadata": {},
   "outputs": [
    {
     "name": "stdout",
     "output_type": "stream",
     "text": [
      "Please Enter  String to change to upper: hi\n",
      "upper case HI\n"
     ]
    }
   ],
   "source": [
    "str1 = input(\"Please Enter  String to change to upper: \")\n",
    "\n",
    "print('upper case', str1.upper())"
   ]
  },
  {
   "cell_type": "markdown",
   "id": "79b09a8a",
   "metadata": {},
   "source": [
    "Write a Python program to remove ‘None’ values from a given list using\n",
    "the lambda function.\n",
    "Given input = [12, 0, None, 23, None, -55, 234, 89, None, 0, 6, -12]\n",
    "Expected output = [12, 0, 23, -55, 234, 89, 0, 6, -12]\n"
   ]
  },
  {
   "cell_type": "code",
   "execution_count": 22,
   "id": "cae4c734",
   "metadata": {},
   "outputs": [
    {
     "name": "stdout",
     "output_type": "stream",
     "text": [
      "The original list is : [12, 0, None, 23, None, -55, 234, 89, None, 0, 6, -12]\n",
      "List after removal of None values : [12, 0, 23, -55, 234, 89, 0, 6, -12]\n"
     ]
    }
   ],
   "source": [
    "\n",
    "test_list = [12, 0, None, 23, None, -55, 234, 89, None, 0, 6, -12]\n",
    " \n",
    "\n",
    "print (\"The original list is : \" + str(test_list))\n",
    " \n",
    "\n",
    "res = list(filter(lambda item: item is not None, test_list))\n",
    " \n",
    "\n",
    "print (\"List after removal of None values : \" + str(res))"
   ]
  },
  {
   "cell_type": "markdown",
   "id": "fec23ba0",
   "metadata": {},
   "source": [
    " Write a Rectangle class in Python language, allowing you to build a\n",
    "rectangle with length and width attributes.\n",
    "a. Create a Perimeter() method to calculate the perimeter of the\n",
    "rectangle and a Area() method to calculate the area of the rectangle.\n",
    "b. Create a method display() that display the length, width, perimeter\n",
    "and area of an object created using an instantiation on rectangle\n",
    "class.\n",
    "c. Create a Parallelepiped child class inheriting from the Rectangle\n",
    "class and with a height attribute and another Volume() method to\n",
    "calculate the volume of the Parallelepiped."
   ]
  },
  {
   "cell_type": "code",
   "execution_count": 38,
   "id": "49608204",
   "metadata": {},
   "outputs": [
    {
     "name": "stdout",
     "output_type": "stream",
     "text": [
      "Enter some random length of the rectangle = 1\n",
      "Enter some random breadth of the rectangle = 2\n",
      "Enter some random height of the rectangle = 3\n",
      "The area of the rectangle with the given sides 1 , 2 = 2\n",
      "The perimmeter of the rectangle with the given sides 1 , 2 = 6\n",
      "The volume of the Parallelepiped with the given sides 1 , 2 , 3 = 6\n"
     ]
    }
   ],
   "source": [
    "\n",
    "class rectangle():\n",
    "  \n",
    "    def __init__(self, rectbreadth, rectlength,rectheight):\n",
    "        self.rectbreadth = rectbreadth\n",
    "        self.rectlength = rectlength\n",
    "        self.rectheight= rectheight\n",
    "  \n",
    "    def areaofRect(self):\n",
    "        return self.rectbreadth*self.rectlength\n",
    "    def perimterofRect(self):\n",
    "        return (self.rectbreadth+self.rectlength)*2\n",
    "    def volumecalcu(self):\n",
    "        return (self.rectbreadth*self.rectlength*self.rectheight)\n",
    "\n",
    "    def display():\n",
    "        print(\"The area of the rectangle with the given sides\",\n",
    "          rectlength, ',', rectbreadth, '=', rectObj.areaofRect())\n",
    "    \n",
    "        print(\"The perimmeter of the rectangle with the given sides\",\n",
    "          rectlength, ',', rectbreadth, '=', rectObj.perimterofRect())\n",
    "        return\n",
    "    def volume(self):\n",
    "        print(\"The volume of the Parallelepiped with the given sides\",\n",
    "          rectlength, ',', rectbreadth,',',rectheight, '=', rectObj.volumecalcu())\n",
    "        return \n",
    "        \n",
    "rectlength = int(input('Enter some random length of the rectangle = '))\n",
    "\n",
    "rectbreadth = int(input('Enter some random breadth of the rectangle = '))\n",
    "\n",
    "rectheight=  int(input('Enter some random height of the rectangle = ')) \n",
    "\n",
    "rectObj = rectangle(rectlength, rectbreadth,rectheight)\n",
    "rectangle.display()\n",
    "\n",
    "class Parallelepiped(rectangle):\n",
    "    pass\n",
    "    \n",
    "x=Parallelepiped(rectlength, rectbreadth,rectheight)\n",
    "x.volume()\n",
    "  \n"
   ]
  },
  {
   "cell_type": "markdown",
   "id": "fc84f7b0",
   "metadata": {},
   "source": [
    ". Create a Python class called BankAccount which represents a bank\n",
    "account, having as attributes: accountNumber (numeric type), name\n",
    "(name of the account owner as string type), balance.\n",
    "a. Create a constructor with parameters: accountNumber, name,\n",
    "balance.\n",
    "b. Create a Deposit() method which manages the deposit actions.\n",
    "c. Create a Withdrawal() method which manages withdrawals\n",
    "actions.\n",
    "d. Create an bankFees() method to apply the bank fees with a\n",
    "percentage of 5% of the balance account.\n",
    "e. Create a display() method to display account details.\n",
    "f. Give the complete code for the BankAccount class.\n"
   ]
  },
  {
   "cell_type": "code",
   "execution_count": 43,
   "id": "410abcb2",
   "metadata": {},
   "outputs": [
    {
     "name": "stdout",
     "output_type": "stream",
     "text": [
      "Hello!!! Welcome to the Dhan Bank\n",
      "Enter amount to be Deposited: 12\n",
      "\n",
      " Amount Deposited: 12.0\n",
      "Enter amount to be Withdrawn: 2\n",
      "\n",
      " You Withdrew: 2.0\n",
      "\n",
      " Net Available Balance= 10.0\n",
      "\n",
      " fees 0.5\n"
     ]
    }
   ],
   "source": [
    "\n",
    "class Bank_Account:\n",
    "    def __init__(self):\n",
    "        self.balance=0\n",
    "        print(\"Hello!!! Welcome to the Dhan Bank\")\n",
    "\n",
    "    def deposit(self):\n",
    "        amount=float(input(\"Enter amount to be Deposited: \"))\n",
    "        self.balance += amount\n",
    "        print(\"\\n Amount Deposited:\",amount)\n",
    "    def withdraw(self):\n",
    "        amount = float(input(\"Enter amount to be Withdrawn: \"))\n",
    "        if self.balance>=amount:\n",
    "            self.balance-=amount\n",
    "            print(\"\\n You Withdrew:\", amount)\n",
    "        else:\n",
    "            print(\"\\n Insufficient balance \")\n",
    "    def fee(self):\n",
    "        print(\"\\n fees\", self.balance*.05)\n",
    "    def display(self):\n",
    "        print(\"\\n Net Available Balance=\",self.balance)\n",
    "\n",
    "s = Bank_Account()\n",
    "\n",
    "s.deposit()\n",
    "s.withdraw()\n",
    "s.display()\n",
    "s.fee()\n"
   ]
  },
  {
   "cell_type": "code",
   "execution_count": null,
   "id": "a83b47d0",
   "metadata": {},
   "outputs": [],
   "source": []
  }
 ],
 "metadata": {
  "kernelspec": {
   "display_name": "Python 3 (ipykernel)",
   "language": "python",
   "name": "python3"
  },
  "language_info": {
   "codemirror_mode": {
    "name": "ipython",
    "version": 3
   },
   "file_extension": ".py",
   "mimetype": "text/x-python",
   "name": "python",
   "nbconvert_exporter": "python",
   "pygments_lexer": "ipython3",
   "version": "3.9.13"
  }
 },
 "nbformat": 4,
 "nbformat_minor": 5
}
