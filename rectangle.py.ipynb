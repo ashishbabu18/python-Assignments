{
 "cells": [
  {
   "cell_type": "code",
   "execution_count": 2,
   "id": "5b88ce4a",
   "metadata": {},
   "outputs": [
    {
     "name": "stdout",
     "output_type": "stream",
     "text": [
      "Enter some random length of the rectangle = 2\n",
      "Enter some random breadth of the rectangle = 4\n",
      "The area of the rectangle with the given sides 2 , 4 = 8\n",
      "The perimmeter of the rectangle with the given sides 2 , 4 = 12\n"
     ]
    }
   ],
   "source": [
    "class rectangle():\n",
    "  \n",
    "    def __init__(self, rectbreadth, rectlength):\n",
    "        self.rectbreadth = rectbreadth\n",
    "        self.rectlength = rectlength\n",
    "       \n",
    "  \n",
    "    def areaofRect(self):\n",
    "        return self.rectbreadth*self.rectlength\n",
    "    def perimterofRect(self):\n",
    "        return (self.rectbreadth+self.rectlength)*2\n",
    "   \n",
    "\n",
    "    def display():\n",
    "        print(\"The area of the rectangle with the given sides\",\n",
    "          rectlength, ',', rectbreadth, '=', rectObj.areaofRect())\n",
    "    \n",
    "        print(\"The perimmeter of the rectangle with the given sides\",\n",
    "          rectlength, ',', rectbreadth, '=', rectObj.perimterofRect())\n",
    "        return\n",
    "    \n",
    "        \n",
    "rectlength = int(input('Enter some random length of the rectangle = '))\n",
    "\n",
    "rectbreadth = int(input('Enter some random breadth of the rectangle = '))\n",
    "\n",
    "\n",
    "\n",
    "rectObj = rectangle(rectlength, rectbreadth)\n",
    "rectangle.display()\n",
    "\n",
    "\n",
    "  "
   ]
  },
  {
   "cell_type": "code",
   "execution_count": null,
   "id": "0ffd709c",
   "metadata": {},
   "outputs": [],
   "source": []
  }
 ],
 "metadata": {
  "kernelspec": {
   "display_name": "Python 3 (ipykernel)",
   "language": "python",
   "name": "python3"
  },
  "language_info": {
   "codemirror_mode": {
    "name": "ipython",
    "version": 3
   },
   "file_extension": ".py",
   "mimetype": "text/x-python",
   "name": "python",
   "nbconvert_exporter": "python",
   "pygments_lexer": "ipython3",
   "version": "3.9.13"
  }
 },
 "nbformat": 4,
 "nbformat_minor": 5
}
