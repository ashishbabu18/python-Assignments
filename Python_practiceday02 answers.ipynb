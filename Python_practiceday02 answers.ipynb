{
 "cells": [
  {
   "cell_type": "code",
   "execution_count": 2,
   "id": "ee36670d",
   "metadata": {},
   "outputs": [
    {
     "name": "stdout",
     "output_type": "stream",
     "text": [
      "Enter the name:ashish\n",
      "Enter the roll number:09\n",
      "Enter the mark:45\n",
      "Name: ashish\n",
      "Roll No: 9\n",
      "Mark: 45\n"
     ]
    }
   ],
   "source": [
    "##Write a Python Program to accept the details of a student like name, roll number \n",
    "##and mark and display it\n",
    "\n",
    "a=input(\"Enter the name:\")\n",
    "b=int(input(\"Enter the roll number:\"))\n",
    "c=int(input(\"Enter the mark:\"))\n",
    "print('Name:',a)\n",
    "print ('Roll No:',b)\n",
    "print('Mark:',c)"
   ]
  },
  {
   "cell_type": "code",
   "execution_count": 3,
   "id": "0e24c9fc",
   "metadata": {},
   "outputs": [
    {
     "name": "stdout",
     "output_type": "stream",
     "text": [
      "Temperature in Celcius:5\n",
      "Fahrenheit =  41.0\n",
      "Temperature in Fahrenheit:41\n",
      "Celcius =  5.0\n"
     ]
    }
   ],
   "source": [
    " ##Write a Python program to convert temperatures to and from Celsius \n",
    "##Fahrenheit.\n",
    "celcius=int(input(\"Temperature in Celcius:\"))\n",
    "print(\"Fahrenheit = \",1.8*celcius+32)\n",
    "Fahrenheit=int(input(\"Temperature in Fahrenheit:\"))\n",
    "print(\"Celcius = \",(Fahrenheit-32)*(5/9))"
   ]
  },
  {
   "cell_type": "raw",
   "id": "f2e275b7",
   "metadata": {},
   "source": []
  },
  {
   "cell_type": "code",
   "execution_count": 4,
   "id": "01868862",
   "metadata": {},
   "outputs": [
    {
     "name": "stdout",
     "output_type": "stream",
     "text": [
      "First Number :5\n",
      "Second Number :6\n",
      "Product:  30\n"
     ]
    }
   ],
   "source": [
    "## Write a Python program to accept two numbers from the user and display\n",
    "##its product.\n",
    "numa= int(input(\"First Number :\"))\n",
    "numb= int(input(\"Second Number :\"))\n",
    "print(\"Product: \",numa*numb)"
   ]
  },
  {
   "cell_type": "markdown",
   "id": "8e14c488",
   "metadata": {},
   "source": [
    "\n",
    "##Write a Python program to accept a string “Learn Python by Developing a\n",
    "##Website” and display the string like “Learn**Python** by Developing a\n",
    "##**Website**”\n",
    "learnp=input(\"Type your Text:\")\n",
    "print(learnp[0:5]+'**'+learnp[6:12]+'**'+learnp[13:28]+'**'+learnp[29:36]+'**')"
   ]
  },
  {
   "cell_type": "code",
   "execution_count": 6,
   "id": "9f131457",
   "metadata": {},
   "outputs": [
    {
     "name": "stdout",
     "output_type": "stream",
     "text": [
      "Input the radius of the circle : 6\n",
      "Area of the circle with radius 6.0 is  113.09733552923255\n"
     ]
    }
   ],
   "source": [
    "##Write a Python program to accept the radius of a circle and display its area.\n",
    "from math import pi\n",
    "r = float(input (\"Input the radius of the circle : \"))\n",
    "\n",
    "print(\"Area of the circle with radius\" ,r ,\"is \" ,pi*r**2)"
   ]
  },
  {
   "cell_type": "code",
   "execution_count": 7,
   "id": "13b53b5d",
   "metadata": {},
   "outputs": [
    {
     "name": "stdout",
     "output_type": "stream",
     "text": [
      "[1, 2, 3, 4, 5, 6, 7]\n",
      "Number to Insert:11\n",
      "Position to insert :3\n",
      "[1, 2, 3, '11', 4, 5, 6, 7]\n"
     ]
    }
   ],
   "source": [
    "##Python program to insert a number to any position in a list \n",
    "lista=[1,2,3,4,5,6,7]\n",
    "print (lista)\n",
    "number=input(\"Number to Insert:\")\n",
    "position = int(input(\"Position to insert :\"))\n",
    "lista.insert(position,number)\n",
    "print (lista)"
   ]
  },
  {
   "cell_type": "code",
   "execution_count": 8,
   "id": "0c23029e",
   "metadata": {},
   "outputs": [
    {
     "name": "stdout",
     "output_type": "stream",
     "text": [
      "{'name': 'John', 'age': 5, 'salary': 8000, 'city': 'New York'}\n",
      "{'name': 'John', 'age': 5, 'salary': 8000, 'location': 'New York'}\n"
     ]
    }
   ],
   "source": [
    " ##Write a program to rename a key city to a location in the following dictionary.\n",
    "sample_dict = { \"name\": \"John\", \"age\":5, \"salary\": 8000, \"city\": \"New York\"}\n",
    "\n",
    "print (sample_dict)\n",
    "sample_dict[\"location\"]= sample_dict.pop(\"city\")\n",
    "print (sample_dict)\n"
   ]
  },
  {
   "cell_type": "code",
   "execution_count": 9,
   "id": "d8a73ac5",
   "metadata": {},
   "outputs": [
    {
     "name": "stdout",
     "output_type": "stream",
     "text": [
      "{'emp1': {'name': 'John', 'salary': 7500}, 'emp2': {'name': 'Emma', 'salary': 8000}, 'emp3': {'name': 'Brad', 'salary': 500}}\n",
      "{'emp1': {'name': 'John', 'salary': 7500}, 'emp2': {'name': 'Emma', 'salary': 8500}, 'emp3': {'name': 'Brad', 'salary': 500}}\n"
     ]
    }
   ],
   "source": [
    "##Write a Python program to change Brad’s salary to 8500 in the following \n",
    "##dictionary\n",
    "sample_dict1 = {\n",
    "'emp1': {'name': 'John', 'salary': 7500},\n",
    "'emp2': {'name': 'Emma', 'salary': 8000},\n",
    "'emp3': {'name': 'Brad', 'salary': 500}\n",
    "}\n",
    "print(sample_dict1)\n",
    "sample_dict1['emp2']['salary']=8500\n",
    "print(sample_dict1)"
   ]
  },
  {
   "cell_type": "code",
   "execution_count": 10,
   "id": "e8af480f",
   "metadata": {},
   "outputs": [
    {
     "name": "stdout",
     "output_type": "stream",
     "text": [
      "(43, 54)\n"
     ]
    }
   ],
   "source": [
    "## Write a program to copy elements 43 and 54 from the following tuple into a \n",
    "##new tuple.\n",
    "tuple1 = (10, 20, 43, 54, 56, 68)\n",
    "tuple2=tuple1[2:4]\n",
    "print(tuple2)"
   ]
  },
  {
   "cell_type": "code",
   "execution_count": 11,
   "id": "ee577e99",
   "metadata": {},
   "outputs": [
    {
     "name": "stdout",
     "output_type": "stream",
     "text": [
      "3\n"
     ]
    }
   ],
   "source": [
    "## Counts the number of occurrences of item 50 from a tuple\n",
    "\n",
    "\n",
    "tuple1 = (50, 10, 60, 70, 50,83,567,50,81)\n",
    "print(tuple1.count(50))"
   ]
  },
  {
   "cell_type": "code",
   "execution_count": 12,
   "id": "18869189",
   "metadata": {},
   "outputs": [
    {
     "name": "stdout",
     "output_type": "stream",
     "text": [
      "Type your Text:Learn Python by Developing a Website\n",
      "Learn**Python**by Developing a**Website**\n"
     ]
    }
   ],
   "source": [
    "## Write a Python program to accept a string “Learn Python by Developing a\n",
    "##Website” and display the string like “Learn**Python** by Developing a\n",
    "##**Website**”\n",
    "\n",
    "learnp=input(\"Type your Text:\")\n",
    "print(learnp[0:5]+'**'+learnp[6:12]+'**'+learnp[13:28]+'**'+learnp[29:36]+'**')"
   ]
  },
  {
   "cell_type": "code",
   "execution_count": null,
   "id": "7314c470",
   "metadata": {},
   "outputs": [],
   "source": []
  }
 ],
 "metadata": {
  "kernelspec": {
   "display_name": "Python 3 (ipykernel)",
   "language": "python",
   "name": "python3"
  },
  "language_info": {
   "codemirror_mode": {
    "name": "ipython",
    "version": 3
   },
   "file_extension": ".py",
   "mimetype": "text/x-python",
   "name": "python",
   "nbconvert_exporter": "python",
   "pygments_lexer": "ipython3",
   "version": "3.9.13"
  }
 },
 "nbformat": 4,
 "nbformat_minor": 5
}
