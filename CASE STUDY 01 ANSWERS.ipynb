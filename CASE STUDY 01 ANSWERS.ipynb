{
 "cells": [
  {
   "cell_type": "markdown",
   "id": "f4fa7271",
   "metadata": {},
   "source": [
    "A school has following rules for grading system:\n",
    "a. Below 25 - F\n",
    "b. 25 to 45 - E\n",
    "c. 45 to 50 - D\n",
    "d. 50 to 60 - C\n",
    "e. 60 to 80 - B\n",
    "f. Above 80 - A\n",
    "Ask user to enter marks and print the corresponding grade."
   ]
  },
  {
   "cell_type": "code",
   "execution_count": 1,
   "id": "355725f3",
   "metadata": {},
   "outputs": [
    {
     "name": "stdout",
     "output_type": "stream",
     "text": [
      "Enter your score45\n",
      "D\n"
     ]
    }
   ],
   "source": [
    "score = input(\"Enter your score\")\n",
    "\n",
    "score = int(score)\n",
    "\n",
    "if score < 25:  \n",
    "\n",
    "   print(\"F\")\n",
    "\n",
    "elif score >= 25 and score < 45:  \n",
    "\n",
    "   print(\"E\")\n",
    "\n",
    "elif score >= 45 and score < 50:  \n",
    "\n",
    "   print(\"D\")\n",
    "\n",
    "elif score >= 50 and score < 60:  \n",
    "\n",
    "   print(\"C\")\n",
    "\n",
    "elif score >= 60 and score < 80:  \n",
    "\n",
    "   print(\"B\")\n",
    "\n",
    "else:  \n",
    "\n",
    "   print(\"A\")"
   ]
  },
  {
   "cell_type": "markdown",
   "id": "f4187509",
   "metadata": {},
   "source": [
    "You have a list of names. Create a new list which contains only the names \n",
    "with non-repeating characters. \n",
    "Sample input = [‘John’,’Peter’,’Meera’,’Mini’,’Krishna’]\n",
    "Sample output = [‘John’,Krishna]\n",
    "\n",
    "STRING======================================================="
   ]
  },
  {
   "cell_type": "code",
   "execution_count": null,
   "id": "0b161c83",
   "metadata": {},
   "outputs": [],
   "source": [
    "a=['John','Peter','Meera','Mini','Krishna']\n",
    "\n",
    "for name in a:\n",
    "    #print(name,end=',')\n",
    "   \n",
    "\n",
    "    for i in name.split():\n",
    "\n",
    "        count = 0\n",
    "\n",
    "        for j in name:\n",
    "\n",
    "            if i == j:\n",
    "\n",
    "                count+=1\n",
    "\n",
    "            if count > 1:\n",
    "\n",
    "                break\n",
    "\n",
    "        if count == 1:\n",
    "\n",
    "            print(i,end = \" \")"
   ]
  },
  {
   "cell_type": "code",
   "execution_count": null,
   "id": "efd56567",
   "metadata": {},
   "outputs": [],
   "source": []
  },
  {
   "cell_type": "markdown",
   "id": "2a787503",
   "metadata": {},
   "source": [
    "Take values of length and breadth of a rectangle from user and check if it \n",
    "is square or not."
   ]
  },
  {
   "cell_type": "code",
   "execution_count": 2,
   "id": "e809807a",
   "metadata": {},
   "outputs": [
    {
     "name": "stdout",
     "output_type": "stream",
     "text": [
      "enter the length of the figure4\n",
      "enter the breadth of the figure3\n",
      "the figure is a rectangle\n"
     ]
    }
   ],
   "source": [
    "a=int(input(\"enter the length of the figure\"))\n",
    "\n",
    "b=int(input(\"enter the breadth of the figure\"))\n",
    "\n",
    "if a==b:\n",
    "\n",
    "  print(\"the figure is a square\")\n",
    "\n",
    "else:\n",
    "\n",
    "  print(\"the figure is a rectangle\")"
   ]
  },
  {
   "cell_type": "markdown",
   "id": "977443ab",
   "metadata": {},
   "source": [
    "A student will not be allowed to sit in exam if his/her attendance is less \n",
    "than 75%. Take following input from user Number of classes held \n",
    "Number of classes attended. And print percentage of class attended Is \n",
    "student is allowed to sit in exam or not."
   ]
  },
  {
   "cell_type": "code",
   "execution_count": 5,
   "id": "fef5569f",
   "metadata": {},
   "outputs": [
    {
     "name": "stdout",
     "output_type": "stream",
     "text": [
      "number of classes held45\n",
      "number of classes attended30\n",
      "Attandance is 66.66666666666666\n",
      "Not allowed to sit in Exam\n"
     ]
    }
   ],
   "source": [
    "cls_held = int(input('number of classes held' )) #taking number of classes held as input\n",
    "\n",
    "cls_att = int(input('number of classes attended'))    #taking number of classes attended as input\n",
    "\n",
    "#calculating percentage of classes attended\n",
    "\n",
    "attended = (cls_att/cls_held) * 100\n",
    "\n",
    "#printing the percentage of classes attended\n",
    "\n",
    "print(\"Attandance is\",attended)\n",
    "\n",
    "#checking whether attandance is greater than 75 and printing the same\n",
    "\n",
    "if attended>75:\n",
    "\n",
    "   print(\"Allowed to sit in Exam\")\n",
    "\n",
    "else:\n",
    "\n",
    "   print(\"Not allowed to sit in Exam\")"
   ]
  },
  {
   "cell_type": "markdown",
   "id": "b7a3b39e",
   "metadata": {},
   "source": [
    "Create a list by taking length of the list and elements of the list from user. \n",
    "Then find the sum of the elements of the list. Also create a new called even \n",
    "list which contains only even numbers from first list and odd list which \n",
    "contains odd numbers from the list. \n",
    "Sample input:\n",
    "Length of the list = 5\n",
    "List1 = [2,6,3,1,5]\n",
    "Sum = 17\n",
    "Even_list=[2,6]\n",
    "Odd_list=[3,1,5]\n",
    "\n",
    "\n",
    "SUM================================================="
   ]
  },
  {
   "cell_type": "code",
   "execution_count": 6,
   "id": "231d2895",
   "metadata": {},
   "outputs": [
    {
     "name": "stdout",
     "output_type": "stream",
     "text": [
      "Enter number of elements:3\n",
      "Enter element:4\n",
      "Enter element:2\n",
      "Enter element:3\n",
      "[4, 2, 3]\n",
      "Sum of the elements 9\n",
      "The even list [4, 2]\n",
      "The odd list [3]\n"
     ]
    }
   ],
   "source": [
    "a=[]\n",
    "n=int(input(\"Enter number of elements:\"))\n",
    "count1=0\n",
    "sum1=0\n",
    "for i in range(1,n+1):\n",
    "    b=int(input(\"Enter element:\"))\n",
    "    if count1 <n:\n",
    "        sum1+=b\n",
    "        count1+=1\n",
    "    a.append(b)\n",
    "    \n",
    "    \n",
    "print(a)\n",
    "print(\"Sum of the elements\",sum1)\n",
    "\n",
    "\n",
    "even=[]\n",
    "odd=[]\n",
    "for j in a:\n",
    "    if(j%2==0):\n",
    "        even.append(j)\n",
    "    else:\n",
    "        odd.append(j)\n",
    "print(\"The even list\",even)\n",
    "print(\"The odd list\",odd)"
   ]
  },
  {
   "cell_type": "markdown",
   "id": "af5fb1ff",
   "metadata": {},
   "source": [
    "## "
   ]
  },
  {
   "cell_type": "markdown",
   "id": "9946d3a3",
   "metadata": {},
   "source": [
    "Create a sample chatbot for an ecommerce website.\n"
   ]
  },
  {
   "cell_type": "code",
   "execution_count": 8,
   "id": "300d1afd",
   "metadata": {},
   "outputs": [
    {
     "name": "stdout",
     "output_type": "stream",
     "text": [
      "Welcome to Ekart\n",
      "type the items you looking\n",
      "Grocery\n",
      "Drinks\n",
      "Enter quit to stopGrocery\n",
      "Grocery in stock\n",
      "1. Bread and Bakery\n",
      "2. Meat and seafood\n",
      "3. Cereals and breakfast foods\n",
      "the option number\n",
      "Enter quit to stop1\n",
      "please visit ekart.in to order\n",
      "Enter quit to stopquit\n",
      "see you later\n"
     ]
    }
   ],
   "source": [
    "\n",
    "print('Welcome to Ekart')\n",
    "print('type the items you looking')\n",
    "print('Grocery')\n",
    "print('Drinks')\n",
    "while True:\n",
    "    x= input('Enter quit to stop')\n",
    "    X= x.lower()\n",
    "    if x=='quit':\n",
    "        print('see you later')\n",
    "        break\n",
    "    y= x.split()\n",
    "    if (len(y))==0:\n",
    "        print('please give a valid input')\n",
    "        print('type the items you looking')\n",
    "        print('Grocery')\n",
    "        print('Drinks')\n",
    "    elif 'goodmorning' in y:\n",
    "        print('Good morning')\n",
    "        \n",
    "    elif 'Grocery' in y:\n",
    "        print('Grocery in stock')\n",
    "        print('1. Bread and Bakery')\n",
    "        print('2. Meat and seafood')\n",
    "        print('3. Cereals and breakfast foods')\n",
    "        print ('the option number')\n",
    "   \n",
    "    elif 'Drinks' in y:\n",
    "        print('Drinks in stock')\n",
    "        print('4. milk')\n",
    "        print('5. wine')\n",
    "        print('6. softdrinks')\n",
    "        print ('the option number')\n",
    "    elif '1' in y:\n",
    "        print ('please visit ekart.in to order')\n",
    "    elif '2' in y:\n",
    "        print ('please visit ekart.in to order')\n",
    "    elif '3' in y:\n",
    "        print ('please visit ekart.in to order')\n",
    "    elif '4' in y:\n",
    "        print ('please visit ekart.in to order')\n",
    "    elif '5' in y:\n",
    "        print ('please visit ekart.in to order')\n",
    "    elif '6' in y:\n",
    "        print ('please visit ekart.in to order')\n",
    "        \n",
    "    "
   ]
  },
  {
   "cell_type": "markdown",
   "id": "8e9896c6",
   "metadata": {},
   "source": [
    "Write a program to find the roots of a quadratic equation. Get the co\u0002efficients of quadratic equation ax^2+bx+c and display whether the roots \n",
    "are real and equal or real and distinct or roots are imaginary. You have to \n",
    "find the roots and display it as well."
   ]
  },
  {
   "cell_type": "code",
   "execution_count": 9,
   "id": "7ee442c8",
   "metadata": {},
   "outputs": [
    {
     "name": "stdout",
     "output_type": "stream",
     "text": [
      "Quadratic function : (a * x^2) + b*x + c\n",
      "a: 2\n",
      "b: 3\n",
      "c: 2\n",
      "No roots, discriminant < 0.\n"
     ]
    }
   ],
   "source": [
    "from math import sqrt\n",
    "\n",
    "print(\"Quadratic function : (a * x^2) + b*x + c\")\n",
    "a = float(input(\"a: \"))\n",
    "b = float(input(\"b: \"))\n",
    "c = float(input(\"c: \"))\n",
    "\n",
    "r = b**2 - 4*a*c\n",
    "\n",
    "if r > 0:\n",
    "    num_roots = 2\n",
    "    x1 = (((-b) + sqrt(r))/(2*a))     \n",
    "    x2 = (((-b) - sqrt(r))/(2*a))\n",
    "    print(\"There are 2 roots: %f and %f\" % (x1, x2))\n",
    "elif r == 0:\n",
    "    num_roots = 1\n",
    "    x = (-b) / 2*a\n",
    "    print(\"There is one root: \", x)\n",
    "else:\n",
    "    num_roots = 0\n",
    "    print(\"No roots, discriminant < 0.\")\n",
    "    exit()"
   ]
  },
  {
   "cell_type": "markdown",
   "id": "b72ed600",
   "metadata": {},
   "source": [
    "Given a range of first 10 numbers, write a Python program to iterate from \n",
    "start number to the end number and print the sum of the current number \n",
    "and previous number. \n",
    "Sample input: 1….10 \n",
    "Sample output: Current Number 1 Previous Number 0 Sum: 1\n",
    "Current Number 2 Previous Number 1 Sum: 3 \n",
    "Current Number 3 Previous Number 2 Sum: 5… \n",
    "…….\n",
    "Current Number 10 Previous Number 9 Sum: 19"
   ]
  },
  {
   "cell_type": "code",
   "execution_count": 2,
   "id": "242d6c9e",
   "metadata": {},
   "outputs": [
    {
     "name": "stdout",
     "output_type": "stream",
     "text": [
      "Current Number 0Previous Number 0is 0\n",
      "Current Number 1Previous Number 0is 1\n",
      "Current Number 2Previous Number 1is 3\n",
      "Current Number 3Previous Number 2is 5\n",
      "Current Number 4Previous Number 3is 7\n",
      "Current Number 5Previous Number 4is 9\n",
      "Current Number 6Previous Number 5is 11\n",
      "Current Number 7Previous Number 6is 13\n",
      "Current Number 8Previous Number 7is 15\n",
      "Current Number 9Previous Number 8is 17\n",
      "Current Number 10Previous Number 9is 19\n"
     ]
    }
   ],
   "source": [
    "num = list(range(11))\n",
    "previousNum = 0\n",
    "for i in num:\n",
    "    sum = previousNum + i\n",
    "    print('Current Number '+ str(i) + 'Previous Number ' + str(previousNum) + 'is ' + str(sum))\n",
    "    previousNum=i"
   ]
  },
  {
   "cell_type": "markdown",
   "id": "477654c0",
   "metadata": {},
   "source": [
    "Write a Python program to find the prime numbers in a given range. Get \n",
    "the range from user and print prime numbers in that range."
   ]
  },
  {
   "cell_type": "code",
   "execution_count": 3,
   "id": "4d0c558f",
   "metadata": {},
   "outputs": [
    {
     "name": "stdout",
     "output_type": "stream",
     "text": [
      "Enter the lower bound: 4\n",
      "Enter the upper bound: 11\n",
      "Prime numbers between 4 and 11 are:\n",
      "5 7 "
     ]
    }
   ],
   "source": [
    "start = int(input(\"Enter the lower bound: \"))\n",
    "stop = int(input(\"Enter the upper bound: \"))\n",
    "print(\"Prime numbers between\", start, \"and\", stop, \"are:\")\n",
    "for val in range(start, stop):\n",
    "  if val > 1:\n",
    "    for i in range(2, val):\n",
    "      if (val % i) == 0:\n",
    "        break\n",
    "    else:\n",
    "      print(val, end=\" \")"
   ]
  },
  {
   "cell_type": "markdown",
   "id": "e6856cbc",
   "metadata": {},
   "source": [
    "Write a Python program to print Fibonacci series in a given range. Get \n",
    "the range from user and print prime numbers in that range"
   ]
  },
  {
   "cell_type": "code",
   "execution_count": 4,
   "id": "82ef27b4",
   "metadata": {},
   "outputs": [
    {
     "name": "stdout",
     "output_type": "stream",
     "text": [
      "How many terms? 5\n",
      "Fibonacci sequence:\n",
      "0\n",
      "1\n",
      "1\n",
      "2\n",
      "3\n"
     ]
    }
   ],
   "source": [
    "nterms = int(input(\"How many terms? \"))\n",
    "\n",
    "# first two terms\n",
    "n1, n2 = 0, 1\n",
    "count = 0\n",
    "\n",
    "# check if the number of terms is valid\n",
    "if nterms <= 0:\n",
    "   print(\"Please enter a positive integer\")\n",
    "# if there is only one term, return n1\n",
    "elif nterms == 1:\n",
    "   print(\"Fibonacci sequence upto\",nterms,\":\")\n",
    "   print(n1)\n",
    "# generate fibonacci sequence\n",
    "else:\n",
    "   print(\"Fibonacci sequence:\")\n",
    "   while count < nterms:\n",
    "       print(n1)\n",
    "       nth = n1 + n2\n",
    "       # update values\n",
    "       n1 = n2\n",
    "       n2 = nth\n",
    "       count += 1"
   ]
  },
  {
   "cell_type": "code",
   "execution_count": null,
   "id": "af0db287",
   "metadata": {},
   "outputs": [],
   "source": []
  }
 ],
 "metadata": {
  "kernelspec": {
   "display_name": "Python 3 (ipykernel)",
   "language": "python",
   "name": "python3"
  },
  "language_info": {
   "codemirror_mode": {
    "name": "ipython",
    "version": 3
   },
   "file_extension": ".py",
   "mimetype": "text/x-python",
   "name": "python",
   "nbconvert_exporter": "python",
   "pygments_lexer": "ipython3",
   "version": "3.9.13"
  }
 },
 "nbformat": 4,
 "nbformat_minor": 5
}
